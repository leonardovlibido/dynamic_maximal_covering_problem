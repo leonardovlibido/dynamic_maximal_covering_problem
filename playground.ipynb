{
 "cells": [
  {
   "cell_type": "code",
   "execution_count": 1,
   "metadata": {},
   "outputs": [],
   "source": [
    "import math\n",
    "import random\n",
    "import numpy as np\n",
    "import copy\n",
    "import itertools"
   ]
  },
  {
   "cell_type": "code",
   "execution_count": null,
   "metadata": {},
   "outputs": [],
   "source": []
  },
  {
   "cell_type": "code",
   "execution_count": 2,
   "metadata": {},
   "outputs": [],
   "source": [
    "class LocalSearch:\n",
    "    def __init__(self, demand_nodes, facility_nodes, T, demands, distances, max_distance, num_of_facilities):\n",
    "        '''Initialize the parameters of the local search\n",
    "        \n",
    "        '''\n",
    "        self.demand_nodes = demand_nodes\n",
    "        self.facility_nodes = facility_nodes\n",
    "        self.T = T\n",
    "        self.demands = demands\n",
    "        self.distances = distances\n",
    "        self.max_distance = max_distance\n",
    "        self.num_of_facilities = num_of_facilities\n",
    "        self.last_move = None\n",
    "        \n",
    "        self.best_solution = self.generate_initial_state_random()\n",
    "        self.best_value = self.solution_value(self.best_solution)\n",
    "        \n",
    "        self.curr_solution = None\n",
    "        self.curr_value = None\n",
    "\n",
    "    #def is_feasible(self):\n",
    "    #    pass\n",
    "\n",
    "    def solution_value(self, solution, verbose=False):\n",
    "        if verbose:\n",
    "            print(\"OOO\")\n",
    "            for i in solution:\n",
    "                print(i)\n",
    "            print(\"OOO\")\n",
    "            \n",
    "        num_of_nodes = len(self.demand_nodes)\n",
    "        value = 0\n",
    "        \n",
    "        for ind, is_facility in enumerate(solution):\n",
    "            node = ind % num_of_nodes\n",
    "            time_period = ind // num_of_nodes\n",
    "            \n",
    "            for i in range(num_of_nodes*time_period, num_of_nodes*(time_period+1)):\n",
    "                if solution[i] and self.distances[i-num_of_nodes*time_period][node] < self.max_distance:\n",
    "                    value += self.demands[node][time_period]\n",
    "                    if verbose:\n",
    "                        print(node, time_period,i, solution[i])\n",
    "                    break\n",
    "                    \n",
    "        return value\n",
    "        \n",
    "\n",
    "    def generate_initial_state_random(self):\n",
    "        solution = [False] * (len(self.demand_nodes)*self.T)\n",
    "        if num_of_facilities >= len(solution):\n",
    "            raise Exception(\"Number of facilities to allocate must be smaller than possible facility places\")\n",
    "        \n",
    "        inds = random.sample(range(0, len(solution)), self.num_of_facilities)\n",
    "        for i in inds:\n",
    "            solution[i] = True\n",
    "            \n",
    "        return solution\n",
    "\n",
    "    def generate_neighbour_1(self, solution):\n",
    "        '''Completely random facility swap\n",
    "        '''\n",
    "        pass\n",
    "        \n",
    "    def generate_neighbour_2(self):\n",
    "        '''Swap two facilities in the same time period\n",
    "        '''\n",
    "        pass\n",
    "        \n",
    "    def generate_neighbour(self, solution):\n",
    "        fac = 1 + random.randrange(0, self.num_of_facilities)\n",
    "        non_fac = 1 + random.randrange(0, len(solution)-self.num_of_facilities)\n",
    "        self.last_move = []\n",
    "        \n",
    "        for i in range(len(solution)):\n",
    "            if solution[i]:\n",
    "                fac -= 1\n",
    "                if fac == 0:\n",
    "                    solution[i] = False\n",
    "                    self.last_move.append(i)\n",
    "            else:\n",
    "                non_fac -= 1\n",
    "                if non_fac == 0:\n",
    "                    solution[i] = True\n",
    "                    self.last_move.append(i)\n",
    "                    \n",
    "            \n",
    "    \n",
    "    def invert_last_move(self, solution):\n",
    "        for i in self.last_move:\n",
    "            solution[i] = not solution[i]\n",
    "    \n",
    "    def local_search(self, max_iters = 10000):\n",
    "        self.curr_solution = self.generate_initial_state_random()\n",
    "        self.curr_value = self.solution_value(self.curr_solution)\n",
    "        \n",
    "        i = 0\n",
    "        while i < max_iters:\n",
    "            self.generate_neighbour(self.curr_solution)\n",
    "            new_value = self.solution_value(self.curr_solution)\n",
    "\n",
    "            if new_value > self.curr_value:\n",
    "                self.curr_value = new_value\n",
    "            else:\n",
    "                self.invert_last_move(self.curr_solution)\n",
    "                \n",
    "\n",
    "            if new_value > self.best_value:\n",
    "                self.best_value = new_value\n",
    "                self.best_solution = copy.deepcopy(self.curr_solution)\n",
    "                \n",
    "            i += 1\n",
    "            \n",
    "        return self.best_value"
   ]
  },
  {
   "cell_type": "code",
   "execution_count": null,
   "metadata": {},
   "outputs": [],
   "source": []
  },
  {
   "cell_type": "code",
   "execution_count": 3,
   "metadata": {},
   "outputs": [],
   "source": [
    "def brute_force_DMCLP(demand_nodes, facility_nodes, T, demands, distances, max_distance, num_of_facilities):\n",
    "    best_value = 0\n",
    "    num_of_nodes = len(demand_nodes)\n",
    "    \n",
    "    for comb in itertools.combinations(range(0, len(demand_nodes)*T), num_of_facilities):\n",
    "        solution = [False] * (num_of_nodes*T)\n",
    "        for index in comb:\n",
    "            solution[index] = True\n",
    "\n",
    "            \n",
    "        curr_value = 0        \n",
    "        for ind, is_facility in enumerate(solution):\n",
    "            node = ind % num_of_nodes\n",
    "            time_period = ind // num_of_nodes\n",
    "            \n",
    "            for i in range(num_of_nodes*time_period, num_of_nodes*(time_period+1)):\n",
    "                if solution[i] and distances[i-num_of_nodes*time_period][node] < max_distance:\n",
    "                    curr_value += demands[node][time_period]\n",
    "                    break\n",
    "              \n",
    "        if curr_value > best_value:\n",
    "            best_value = curr_value\n",
    "            \n",
    "    return best_value"
   ]
  },
  {
   "cell_type": "code",
   "execution_count": 4,
   "metadata": {},
   "outputs": [],
   "source": [
    "## Toy example\n",
    "## (0,0), (0, 2), (3, 3), (5,0)\n",
    "\n",
    "demand_nodes = [0, 1, 2, 3]    # set of demand nodes\n",
    "facility_nodes = demand_nodes  # set of eligible facility sites\n",
    "T = 3                          # number of periods\n",
    "\n",
    "# demand of node i at time period t\n",
    "demands = [\n",
    "   [6.52305883, 4.47796663, 9.37052681],\n",
    "   [2.17060818, 7.02949437, 3.40787859],\n",
    "   [2.41280871, 6.87973726, 9.08665076],\n",
    "   [8.86408598, 7.70743075, 7.60847307]\n",
    "]\n",
    "\n",
    "# distances between i demand node and j facility\n",
    "distances = [\n",
    "    [0.00, 2.00, 4.24, 5.00],\n",
    "    [2.00, 0.00, 3.16, 5.38],\n",
    "    [4.24, 3.16, 0.00, 3.61],\n",
    "    [5.00, 5.38, 3.61, 0.00],\n",
    "]\n",
    "\n",
    "max_distance = 4.25         # max distance between demand node and facility\n",
    "num_of_facilities = 1       # number of facilities to be located in all time periods\n",
    "\n",
    "\n",
    "# Variables:\n",
    "facilities_in_period = [\n",
    "    [False, False, False],\n",
    "    [False, False, False],\n",
    "    [False, False, False],\n",
    "    [False, False, False]\n",
    "]\n",
    "\n",
    "covered_nodes_in_period = [\n",
    "    [False, False, False],\n",
    "    [False, False, False],\n",
    "    [False, False, False],\n",
    "    [False, False, False]\n",
    "]"
   ]
  },
  {
   "cell_type": "code",
   "execution_count": 5,
   "metadata": {},
   "outputs": [
    {
     "data": {
      "text/plain": [
       "29.47352923"
      ]
     },
     "execution_count": 5,
     "metadata": {},
     "output_type": "execute_result"
    }
   ],
   "source": [
    "ls = LocalSearch(demand_nodes, facility_nodes, T, demands, distances, max_distance, num_of_facilities)\n",
    "ls.local_search()"
   ]
  },
  {
   "cell_type": "code",
   "execution_count": 6,
   "metadata": {},
   "outputs": [
    {
     "data": {
      "text/plain": [
       "29.47352923"
      ]
     },
     "execution_count": 6,
     "metadata": {},
     "output_type": "execute_result"
    }
   ],
   "source": [
    "brute_force_DMCLP(demand_nodes, facility_nodes, T, demands, distances, max_distance, num_of_facilities)"
   ]
  },
  {
   "cell_type": "code",
   "execution_count": 7,
   "metadata": {},
   "outputs": [],
   "source": [
    "def test_solution():\n",
    "    num_of_nodes = random.randrange(5, 13)\n",
    "    demand_nodes = list(range(num_of_nodes))\n",
    "    facility_nodes = demand_nodes  \n",
    "    T = random.randrange(3,6)\n",
    "\n",
    "    max_demand = 30.0\n",
    "    demands = (max_demand*np.random.rand(num_of_nodes*T).reshape(num_of_nodes,T)).tolist()\n",
    "    distances = []\n",
    "    \n",
    "    max_coord = 30.0\n",
    "    \n",
    "    X = (max_coord * np.random.rand(num_of_nodes)).tolist()\n",
    "    Y = (max_coord * np.random.rand(num_of_nodes)).tolist()\n",
    "    for i in range(num_of_nodes):\n",
    "        curr_dist = []\n",
    "        for j in range(num_of_nodes):\n",
    "            curr_dist.append(math.sqrt( (X[i]-X[j])**2 + (Y[i]-Y[j])**2 ))\n",
    "        distances.append(curr_dist)\n",
    "        \n",
    "    max_distance = 8\n",
    "    num_of_facilities = num_of_nodes//3\n",
    "\n",
    "    ls = LocalSearch(demand_nodes, facility_nodes, T, demands, distances, max_distance, num_of_facilities)\n",
    "    ls_value = ls.local_search()\n",
    "    bf_value = brute_force_DMCLP(demand_nodes, facility_nodes, T, demands, distances, max_distance, num_of_facilities)\n",
    "    assert(ls_value - bf_value < 0.001)\n",
    "    \n",
    "    print(\"All is good!\")\n",
    "    return ls_value"
   ]
  },
  {
   "cell_type": "code",
   "execution_count": 8,
   "metadata": {},
   "outputs": [
    {
     "name": "stdout",
     "output_type": "stream",
     "text": [
      "All is good!\n",
      "All is good!\n",
      "All is good!\n",
      "All is good!\n",
      "All is good!\n",
      "All is good!\n",
      "All is good!\n",
      "All is good!\n",
      "All is good!\n",
      "All is good!\n",
      "All is good!\n",
      "All is good!\n",
      "All is good!\n",
      "All is good!\n",
      "All is good!\n",
      "All is good!\n",
      "All is good!\n",
      "All is good!\n",
      "All is good!\n",
      "All is good!\n"
     ]
    }
   ],
   "source": [
    "for i in range(20):\n",
    "    test_solution()"
   ]
  },
  {
   "cell_type": "code",
   "execution_count": null,
   "metadata": {},
   "outputs": [],
   "source": []
  },
  {
   "cell_type": "code",
   "execution_count": 9,
   "metadata": {},
   "outputs": [],
   "source": [
    "def test_solution_on_bigger_set():\n",
    "    num_of_nodes = random.randrange(300, 600)\n",
    "    print(\"Number of nodes:\", num_of_nodes)\n",
    "    demand_nodes = list(range(num_of_nodes))\n",
    "    facility_nodes = demand_nodes  \n",
    "    T = random.randrange(3,6)\n",
    "\n",
    "    max_demand = 30.0\n",
    "    demands = (max_demand*np.random.rand(num_of_nodes*T).reshape(num_of_nodes,T)).tolist()\n",
    "    distances = []\n",
    "    \n",
    "    max_coord = 30.0\n",
    "    \n",
    "    X = (max_coord * np.random.rand(num_of_nodes)).tolist()\n",
    "    Y = (max_coord * np.random.rand(num_of_nodes)).tolist()\n",
    "    for i in range(num_of_nodes):\n",
    "        curr_dist = []\n",
    "        for j in range(num_of_nodes):\n",
    "            curr_dist.append(math.sqrt( (X[i]-X[j])**2 + (Y[i]-Y[j])**2 ))\n",
    "        distances.append(curr_dist)\n",
    "        \n",
    "    max_distance = 8\n",
    "    num_of_facilities = num_of_nodes//3\n",
    "\n",
    "    ls = LocalSearch(demand_nodes, facility_nodes, T, demands, distances, max_distance, num_of_facilities)\n",
    "    ls_value = ls.local_search()\n",
    "    print(\"Best value:\", ls_value)\n",
    "    return ls_value"
   ]
  },
  {
   "cell_type": "code",
   "execution_count": 10,
   "metadata": {},
   "outputs": [
    {
     "name": "stdout",
     "output_type": "stream",
     "text": [
      "Number of nodes: 449\n",
      "Best value: 27065.447618013164\n"
     ]
    },
    {
     "data": {
      "text/plain": [
       "27065.447618013164"
      ]
     },
     "execution_count": 10,
     "metadata": {},
     "output_type": "execute_result"
    }
   ],
   "source": [
    "test_solution_on_bigger_set()"
   ]
  },
  {
   "cell_type": "code",
   "execution_count": null,
   "metadata": {},
   "outputs": [],
   "source": []
  }
 ],
 "metadata": {
  "kernelspec": {
   "display_name": "Python 3",
   "language": "python",
   "name": "python3"
  },
  "language_info": {
   "codemirror_mode": {
    "name": "ipython",
    "version": 3
   },
   "file_extension": ".py",
   "mimetype": "text/x-python",
   "name": "python",
   "nbconvert_exporter": "python",
   "pygments_lexer": "ipython3",
   "version": "3.6.6"
  }
 },
 "nbformat": 4,
 "nbformat_minor": 2
}

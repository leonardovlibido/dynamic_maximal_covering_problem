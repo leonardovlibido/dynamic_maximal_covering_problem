{
 "cells": [
  {
   "cell_type": "code",
   "execution_count": 1,
   "metadata": {},
   "outputs": [],
   "source": [
    "import math\n",
    "import random\n",
    "import numpy as np\n",
    "import copy\n",
    "import itertools\n",
    "import time\n",
    "import matplotlib.pyplot as plt"
   ]
  },
  {
   "cell_type": "code",
   "execution_count": null,
   "metadata": {},
   "outputs": [],
   "source": []
  },
  {
   "cell_type": "code",
   "execution_count": 124,
   "metadata": {},
   "outputs": [],
   "source": [
    "class LocalSearch:\n",
    "    def __init__(self, demand_nodes, facility_nodes, T, demands, distances, max_distance, num_of_facilities):\n",
    "        '''Initialize the parameters of the local search\n",
    "        \n",
    "        '''\n",
    "        self.demand_nodes = demand_nodes\n",
    "        self.facility_nodes = facility_nodes\n",
    "        self.T = T\n",
    "        self.demands = demands\n",
    "        self.distances = distances\n",
    "        self.max_distance = max_distance\n",
    "        self.num_of_facilities = num_of_facilities\n",
    "        self.last_move = None\n",
    "        \n",
    "        self.best_solution = self.generate_initial_state_random()\n",
    "        self.best_value = self.solution_value(self.best_solution)\n",
    "        \n",
    "        self.curr_solution = None\n",
    "        self.curr_value = None\n",
    "        self.curr_solution_close_neighbours = None\n",
    "        self.curr_solution_close_facility_count = None\n",
    "\n",
    "\n",
    "    def initialize_close_facility_count(self):\n",
    "        self.close_facility_count = [0 for i in range(len(self.curr_solution))]\n",
    "        #print(self.close_facility_count)\n",
    "        num_of_nodes = len(self.demand_nodes)\n",
    "        \n",
    "        for ind, is_facility in enumerate(self.curr_solution):\n",
    "            if is_facility:\n",
    "                #print(ind)\n",
    "                node = ind % num_of_nodes\n",
    "                time_period = ind // num_of_nodes\n",
    "                for neighbour in self.curr_solution_close_neighbours[node]:\n",
    "                    #print(ind, neighbour)\n",
    "                    self.close_facility_count[time_period*num_of_nodes + neighbour] += 1\n",
    "                    \n",
    "        #print(self.close_facility_count)\n",
    "        \n",
    "\n",
    "    def initialize_close_neighbours(self):\n",
    "        num_of_nodes = len(self.demand_nodes)\n",
    "        self.curr_solution_close_neighbours = [[] for i in range(num_of_nodes)]\n",
    "        \n",
    "        for node, distances in enumerate(self.distances):\n",
    "            for neighbour, distance in enumerate(distances):\n",
    "                if distance < self.max_distance:\n",
    "                    self.curr_solution_close_neighbours[node].append(neighbour)\n",
    "        #print(self.curr_solution_close_neighbours)\n",
    "        \n",
    "    def get_real_node_and_time_period_from_solution_node(self, ind):\n",
    "        num_of_nodes = len(self.demand_nodes)\n",
    "        node = ind % num_of_nodes\n",
    "        time_period = ind // num_of_nodes\n",
    "        return node, time_period\n",
    "    \n",
    "    def turn_facility_off(self, shut_down_facility):\n",
    "        num_of_nodes = len(self.demand_nodes)\n",
    "        node, time_period = self.get_real_node_and_time_period_from_solution_node(shut_down_facility)\n",
    "        for neighbour in self.curr_solution_close_neighbours[node]:\n",
    "            self.close_facility_count[time_period*num_of_nodes+neighbour] -= 1\n",
    "            assert(self.close_facility_count[time_period*num_of_nodes+neighbour]>=0)\n",
    "            if self.close_facility_count[time_period*num_of_nodes+neighbour] == 0:\n",
    "                self.curr_value -= self.demands[neighbour][time_period] \n",
    "    \n",
    "    def turn_facility_on(self, started_facility):\n",
    "        num_of_nodes = len(self.demand_nodes)\n",
    "        node, time_period = self.get_real_node_and_time_period_from_solution_node(started_facility)\n",
    "        for neighbour in self.curr_solution_close_neighbours[node]:\n",
    "            if self.close_facility_count[time_period*num_of_nodes+neighbour] == 0:\n",
    "                self.curr_value += self.demands[neighbour][time_period]\n",
    "            self.close_facility_count[time_period*num_of_nodes+neighbour] += 1\n",
    "        \n",
    "        \n",
    "    def generate_neighbour_and_update_solution_value(self):\n",
    "        self.generate_neighbour_2(self.curr_solution)\n",
    "        \n",
    "        shut_down_facility = self.last_move[0]\n",
    "        started_facility = self.last_move[1]\n",
    "        \n",
    "        # self.last_move[0] = solution_i koji se postavlja na False\n",
    "        # treba proci kroz sve bliske susede i smanjiti im count, ako postaje 0 smanjiti solution_value\n",
    "        self.turn_facility_off(self.last_move[0])\n",
    "        \n",
    "        # self.last_move[1] = solution_j koji se postavlja na True\n",
    "        # treba proci kroz sve bliske susede i povecati im count, ako je bio nula povecati solution value\n",
    "        self.turn_facility_on(self.last_move[1])\n",
    "        \n",
    "        \n",
    "    def solution_initialize_values(self, verbose=False):\n",
    "        if verbose:\n",
    "            print(\"OOOz\")\n",
    "            for i in self.curr_solution:\n",
    "                print(i)\n",
    "            print(\"OOO\")\n",
    "            \n",
    "        num_of_nodes = len(self.demand_nodes)\n",
    "        value = 0\n",
    "        \n",
    "        for ind, is_facility in enumerate(self.curr_solution):\n",
    "            node = ind % num_of_nodes\n",
    "            time_period = ind // num_of_nodes\n",
    "            \n",
    "            for i in range(num_of_nodes*time_period, num_of_nodes*(time_period+1)):\n",
    "                if self.curr_solution[i] and self.distances[i-num_of_nodes*time_period][node] < self.max_distance:\n",
    "                    value += self.demands[node][time_period]\n",
    "                    if verbose:\n",
    "                        print(node, time_period,i, self.curr_solution[i])\n",
    "                    break\n",
    "        \n",
    "        self.curr_value = value\n",
    "        self.initialize_close_neighbours()\n",
    "        self.initialize_close_facility_count()\n",
    "                    \n",
    "        return value\n",
    "    \n",
    "    def solution_value(self, solution, verbose=False):\n",
    "        if verbose:\n",
    "            print(\"OOO\")\n",
    "            for i in solution:\n",
    "                print(i)\n",
    "            print(\"OOO\")\n",
    "            \n",
    "        num_of_nodes = len(self.demand_nodes)\n",
    "        value = 0\n",
    "        \n",
    "        for ind, is_facility in enumerate(solution):\n",
    "            node = ind % num_of_nodes\n",
    "            time_period = ind // num_of_nodes\n",
    "            \n",
    "            for i in range(num_of_nodes*time_period, num_of_nodes*(time_period+1)):\n",
    "                if solution[i] and self.distances[i-num_of_nodes*time_period][node] < self.max_distance:\n",
    "                    value += self.demands[node][time_period]\n",
    "                    if verbose:\n",
    "                        print(node, time_period,i, solution[i])\n",
    "                    break\n",
    "                    \n",
    "        return value\n",
    "        \n",
    "\n",
    "    def generate_initial_state_random(self):\n",
    "        solution = [False] * (len(self.demand_nodes)*self.T)\n",
    "        if num_of_facilities >= len(solution):\n",
    "            raise Exception(\"Number of facilities to allocate must be smaller than possible facility places\")\n",
    "        \n",
    "        inds = random.sample(range(0, len(solution)), self.num_of_facilities)\n",
    "        for i in inds:\n",
    "            solution[i] = True\n",
    "            \n",
    "        return solution\n",
    "        \n",
    "    def generate_neighbour_2(self, solution):\n",
    "        self.last_move = [0, 0]\n",
    "        \n",
    "        while True:\n",
    "            i = random.randrange(0, len(self.curr_solution))\n",
    "            if solution[i]:\n",
    "                solution[i] = False\n",
    "                self.last_move[0] = i\n",
    "                break\n",
    "            \n",
    "        while True:\n",
    "            i = random.randrange(0, len(self.curr_solution))\n",
    "            if not solution[i]:\n",
    "                solution[i] = True\n",
    "                self.last_move[1] = i\n",
    "                break\n",
    "        \n",
    "    def generate_neighbour(self, solution):\n",
    "        fac = 1 + random.randrange(0, self.num_of_facilities)\n",
    "        non_fac = 1 + random.randrange(0, len(solution)-self.num_of_facilities)\n",
    "        self.last_move = [0, 0]\n",
    "        \n",
    "        for i in range(len(solution)):\n",
    "            if solution[i]:\n",
    "                fac -= 1\n",
    "                if fac == 0:\n",
    "                    solution[i] = False\n",
    "                    #self.last_move.append(i)\n",
    "                    self.last_move[0] = i\n",
    "            else:\n",
    "                non_fac -= 1\n",
    "                if non_fac == 0:\n",
    "                    solution[i] = True\n",
    "                    #self.last_move.append(i)\n",
    "                    self.last_move[1] = i\n",
    "    \n",
    "    def invert_last_move(self, solution):\n",
    "        for i in self.last_move:\n",
    "            solution[i] = not solution[i]\n",
    "        self.turn_facility_on(self.last_move[0])\n",
    "        self.turn_facility_off(self.last_move[1])\n",
    "        self.last_move = []\n",
    "        \n",
    "    \n",
    "    def local_search(self, max_iters = 15000):\n",
    "        self.curr_solution = self.generate_initial_state_random()\n",
    "        self.curr_value = self.solution_initialize_values()\n",
    "        \n",
    "        i = 0\n",
    "        while i < max_iters:\n",
    "            old_value = self.curr_value\n",
    "            self.generate_neighbour_and_update_solution_value()\n",
    "            #new_value = self.solution_value(self.curr_solution)\n",
    "\n",
    "            if self.curr_value <= old_value:\n",
    "                self.invert_last_move(self.curr_solution)\n",
    "            \n",
    "            if self.curr_value > self.best_value:\n",
    "                self.best_value = self.curr_value\n",
    "                self.best_solution = copy.deepcopy(self.curr_solution)\n",
    "            \n",
    "            i += 1\n",
    "                \n",
    "        return self.best_value\n",
    "\n",
    "            "
   ]
  },
  {
   "cell_type": "code",
   "execution_count": null,
   "metadata": {},
   "outputs": [],
   "source": []
  },
  {
   "cell_type": "code",
   "execution_count": 125,
   "metadata": {},
   "outputs": [],
   "source": [
    "def brute_force_DMCLP(demand_nodes, facility_nodes, T, demands, distances, max_distance, num_of_facilities):\n",
    "    best_value = 0\n",
    "    num_of_nodes = len(demand_nodes)\n",
    "    \n",
    "    for comb in itertools.combinations(range(0, len(demand_nodes)*T), num_of_facilities):\n",
    "        solution = [False] * (num_of_nodes*T)\n",
    "        for index in comb:\n",
    "            solution[index] = True\n",
    "\n",
    "            \n",
    "        curr_value = 0        \n",
    "        for ind, is_facility in enumerate(solution):\n",
    "            node = ind % num_of_nodes\n",
    "            time_period = ind // num_of_nodes\n",
    "            \n",
    "            for i in range(num_of_nodes*time_period, num_of_nodes*(time_period+1)):\n",
    "                if solution[i] and distances[i-num_of_nodes*time_period][node] < max_distance:\n",
    "                    curr_value += demands[node][time_period]\n",
    "                    break\n",
    "              \n",
    "        if curr_value > best_value:\n",
    "            best_value = curr_value\n",
    "            \n",
    "    return best_value"
   ]
  },
  {
   "cell_type": "code",
   "execution_count": 126,
   "metadata": {},
   "outputs": [],
   "source": [
    "## Toy example\n",
    "## (0,0), (0, 2), (3, 3), (5,0)\n",
    "\n",
    "demand_nodes = [0, 1, 2, 3]    # set of demand nodes\n",
    "facility_nodes = demand_nodes  # set of eligible facility sites\n",
    "T = 3                          # number of periods\n",
    "\n",
    "# demand of node i at time period t\n",
    "demands = [\n",
    "   [6.52305883, 4.47796663, 9.37052681],\n",
    "   [2.17060818, 7.02949437, 3.40787859],\n",
    "   [2.41280871, 6.87973726, 9.08665076],\n",
    "   [8.86408598, 7.70743075, 7.60847307]\n",
    "]\n",
    "\n",
    "# distances between i demand node and j facility\n",
    "distances = [\n",
    "    [0.00, 2.00, 4.24, 5.00],\n",
    "    [2.00, 0.00, 3.16, 5.38],\n",
    "    [4.24, 3.16, 0.00, 3.61],\n",
    "    [5.00, 5.38, 3.61, 0.00],\n",
    "]\n",
    "\n",
    "max_distance = 3.25         # max distance between demand node and facility\n",
    "num_of_facilities = 3       # number of facilities to be located in all time periods\n",
    "\n",
    "\n",
    "# Variables:\n",
    "facilities_in_period = [\n",
    "    [False, False, False],\n",
    "    [False, False, False],\n",
    "    [False, False, False],\n",
    "    [False, False, False]\n",
    "]\n",
    "\n",
    "covered_nodes_in_period = [\n",
    "    [False, False, False],\n",
    "    [False, False, False],\n",
    "    [False, False, False],\n",
    "    [False, False, False]\n",
    "]"
   ]
  },
  {
   "cell_type": "code",
   "execution_count": null,
   "metadata": {},
   "outputs": [],
   "source": []
  },
  {
   "cell_type": "code",
   "execution_count": 127,
   "metadata": {},
   "outputs": [
    {
     "data": {
      "text/plain": [
       "51.35873014"
      ]
     },
     "execution_count": 127,
     "metadata": {},
     "output_type": "execute_result"
    }
   ],
   "source": [
    "ls = LocalSearch(demand_nodes, facility_nodes, T, demands, distances, max_distance, num_of_facilities)\n",
    "ls.local_search()"
   ]
  },
  {
   "cell_type": "code",
   "execution_count": 128,
   "metadata": {},
   "outputs": [],
   "source": [
    "ls.initialize_close_neighbours()"
   ]
  },
  {
   "cell_type": "code",
   "execution_count": 129,
   "metadata": {},
   "outputs": [
    {
     "data": {
      "text/plain": [
       "[False,\n",
       " True,\n",
       " False,\n",
       " False,\n",
       " False,\n",
       " True,\n",
       " False,\n",
       " False,\n",
       " False,\n",
       " True,\n",
       " False,\n",
       " False]"
      ]
     },
     "execution_count": 129,
     "metadata": {},
     "output_type": "execute_result"
    }
   ],
   "source": [
    "ls.curr_solution"
   ]
  },
  {
   "cell_type": "code",
   "execution_count": 130,
   "metadata": {},
   "outputs": [],
   "source": [
    "ls.initialize_close_facility_count()"
   ]
  },
  {
   "cell_type": "code",
   "execution_count": 131,
   "metadata": {},
   "outputs": [
    {
     "data": {
      "text/plain": [
       "51.35873014"
      ]
     },
     "execution_count": 131,
     "metadata": {},
     "output_type": "execute_result"
    }
   ],
   "source": [
    "brute_force_DMCLP(demand_nodes, facility_nodes, T, demands, distances, max_distance, num_of_facilities)"
   ]
  },
  {
   "cell_type": "code",
   "execution_count": 132,
   "metadata": {},
   "outputs": [],
   "source": [
    "def test_solution():\n",
    "    num_of_nodes = random.randrange(5, 13)\n",
    "    demand_nodes = list(range(num_of_nodes))\n",
    "    facility_nodes = demand_nodes  \n",
    "    T = random.randrange(3,6)\n",
    "\n",
    "    max_demand = 30.0\n",
    "    demands = (max_demand*np.random.rand(num_of_nodes*T).reshape(num_of_nodes,T)).tolist()\n",
    "    distances = []\n",
    "    \n",
    "    max_coord = 30.0\n",
    "    \n",
    "    X = (max_coord * np.random.rand(num_of_nodes)).tolist()\n",
    "    Y = (max_coord * np.random.rand(num_of_nodes)).tolist()\n",
    "    for i in range(num_of_nodes):\n",
    "        curr_dist = []\n",
    "        for j in range(num_of_nodes):\n",
    "            curr_dist.append(math.sqrt( (X[i]-X[j])**2 + (Y[i]-Y[j])**2 ))\n",
    "        distances.append(curr_dist)\n",
    "        \n",
    "    max_distance = 8\n",
    "    num_of_facilities = num_of_nodes//3\n",
    "\n",
    "    ls = LocalSearch(demand_nodes, facility_nodes, T, demands, distances, max_distance, num_of_facilities)\n",
    "    ls_value = ls.local_search()\n",
    "    bf_value = brute_force_DMCLP(demand_nodes, facility_nodes, T, demands, distances, max_distance, num_of_facilities)\n",
    "\n",
    "    print(ls_value, bf_value)\n",
    "    assert(abs(ls_value-bf_value) < 0.001)\n",
    "\n",
    "    \n",
    "    print(\"All is good!\")\n",
    "    return ls_value"
   ]
  },
  {
   "cell_type": "code",
   "execution_count": 134,
   "metadata": {},
   "outputs": [
    {
     "name": "stdout",
     "output_type": "stream",
     "text": [
      "66.0833267992612 66.08332679921483\n",
      "All is good!\n",
      "38.8424926897618 38.84249268974969\n",
      "All is good!\n",
      "176.96949544217694 176.96949544217748\n",
      "All is good!\n",
      "200.4446401284703 200.4446401284707\n",
      "All is good!\n",
      "129.42439708278422 129.42439708278414\n",
      "All is good!\n",
      "212.8393723493942 212.83937234939413\n",
      "All is good!\n",
      "252.8933029707569 252.89330297070788\n",
      "All is good!\n",
      "264.61798687563845 264.61798687549276\n",
      "All is good!\n",
      "292.4400735285636 292.4400735285685\n",
      "All is good!\n",
      "172.738506845167 172.73850684516694\n",
      "All is good!\n",
      "205.66088750758448 205.66088750755512\n",
      "All is good!\n",
      "268.45887398001327 268.45887398001344\n",
      "All is good!\n",
      "189.72767617780372 189.7276761778039\n",
      "All is good!\n",
      "128.65153821884334 128.6515382187572\n",
      "All is good!\n",
      "126.60612221530556 126.60612221530556\n",
      "All is good!\n",
      "151.9806684779485 151.98066847794848\n",
      "All is good!\n",
      "196.2926885342116 196.2926885342109\n",
      "All is good!\n",
      "176.0258848077139 176.0258848077071\n",
      "All is good!\n",
      "87.56243381737116 87.56243381737126\n",
      "All is good!\n",
      "29.5428694711724 29.54286947116877\n",
      "All is good!\n"
     ]
    }
   ],
   "source": [
    "for i in range(20):\n",
    "    test_solution()"
   ]
  },
  {
   "cell_type": "code",
   "execution_count": null,
   "metadata": {},
   "outputs": [],
   "source": []
  },
  {
   "cell_type": "code",
   "execution_count": 135,
   "metadata": {},
   "outputs": [],
   "source": [
    "def test_solution_on_bigger_set(num_of_nodes = None):\n",
    "    if num_of_nodes is None:\n",
    "        num_of_nodes = random.randrange(300, 600)\n",
    "        \n",
    "    print(\"Number of nodes:\", num_of_nodes)\n",
    "    demand_nodes = list(range(num_of_nodes))\n",
    "    facility_nodes = demand_nodes  \n",
    "    T = random.randrange(3,6)\n",
    "\n",
    "    max_demand = 30.0\n",
    "    demands = (max_demand*np.random.rand(num_of_nodes*T).reshape(num_of_nodes,T)).tolist()\n",
    "    distances = []\n",
    "    \n",
    "    max_coord = 30.0\n",
    "    \n",
    "    X = (max_coord * np.random.rand(num_of_nodes)).tolist()\n",
    "    Y = (max_coord * np.random.rand(num_of_nodes)).tolist()\n",
    "    for i in range(num_of_nodes):\n",
    "        curr_dist = []\n",
    "        for j in range(num_of_nodes):\n",
    "            curr_dist.append(math.sqrt( (X[i]-X[j])**2 + (Y[i]-Y[j])**2 ))\n",
    "        distances.append(curr_dist)\n",
    "        \n",
    "    max_distance = 8\n",
    "    num_of_facilities = num_of_nodes//3\n",
    "    ls = LocalSearch(demand_nodes, facility_nodes, T, demands, distances, max_distance, num_of_facilities)\n",
    "    ls_value = ls.local_search()\n",
    "    print(\"Best value:\", ls_value)\n",
    "    return ls_value"
   ]
  },
  {
   "cell_type": "code",
   "execution_count": 138,
   "metadata": {},
   "outputs": [
    {
     "name": "stdout",
     "output_type": "stream",
     "text": [
      "Number of nodes: 336\n",
      "Best value: 20532.92055607098\n"
     ]
    },
    {
     "data": {
      "text/plain": [
       "20532.92055607098"
      ]
     },
     "execution_count": 138,
     "metadata": {},
     "output_type": "execute_result"
    }
   ],
   "source": [
    "test_solution_on_bigger_set()"
   ]
  },
  {
   "cell_type": "code",
   "execution_count": 141,
   "metadata": {},
   "outputs": [],
   "source": [
    "def plot_execution_time_graph():\n",
    "    algorithm_time = []\n",
    "    sizes = list(range(100, 5000, 500))\n",
    "    for i in sizes:\n",
    "        start_time = time.time()\n",
    "        test_solution_on_bigger_set(i)\n",
    "        curr_time = time.time() - start_time\n",
    "        algorithm_time.append(curr_time)\n",
    "        \n",
    "    plt.plot(sizes, algorithm_time, 'b')#, label='data_generation')\n",
    "\n",
    "    plt.xlabel(\"Number of nodes\")\n",
    "    plt.ylabel(\"Time of execution\")\n",
    "    plt.legend()\n",
    "    plt.savefig('execution_time.png')\n",
    "    plt.show()\n",
    "    "
   ]
  },
  {
   "cell_type": "code",
   "execution_count": 142,
   "metadata": {},
   "outputs": [
    {
     "name": "stdout",
     "output_type": "stream",
     "text": [
      "Number of nodes: 100\n",
      "Best value: 5796.04189456811\n",
      "Number of nodes: 600\n",
      "Best value: 36266.73798860212\n",
      "Number of nodes: 1100\n",
      "Best value: 50489.07995852721\n",
      "Number of nodes: 1600\n",
      "Best value: 95969.10268026724\n",
      "Number of nodes: 2100\n",
      "Best value: 125665.13371370088\n",
      "Number of nodes: 2600\n",
      "Best value: 156484.41539958946\n",
      "Number of nodes: 3100\n",
      "Best value: 232701.17124050003\n",
      "Number of nodes: 3600\n",
      "Best value: 215770.1676268832\n",
      "Number of nodes: 4100\n",
      "Best value: 245265.57804219754\n",
      "Number of nodes: 4600\n"
     ]
    },
    {
     "name": "stderr",
     "output_type": "stream",
     "text": [
      "No handles with labels found to put in legend.\n"
     ]
    },
    {
     "name": "stdout",
     "output_type": "stream",
     "text": [
      "Best value: 206724.32681609507\n"
     ]
    },
    {
     "data": {
      "image/png": "[encoded data removed]",
      "text/plain": [
       "<Figure size 432x288 with 1 Axes>"
      ]
     },
     "metadata": {},
     "output_type": "display_data"
    }
   ],
   "source": [
    "plot_execution_time_graph()"
   ]
  },
  {
   "cell_type": "code",
   "execution_count": null,
   "metadata": {},
   "outputs": [],
   "source": []
  },
  {
   "cell_type": "code",
   "execution_count": null,
   "metadata": {},
   "outputs": [],
   "source": []
  }
 ],
 "metadata": {
  "kernelspec": {
   "display_name": "Python 3",
   "language": "python",
   "name": "python3"
  },
  "language_info": {
   "codemirror_mode": {
    "name": "ipython",
    "version": 3
   },
   "file_extension": ".py",
   "mimetype": "text/x-python",
   "name": "python",
   "nbconvert_exporter": "python",
   "pygments_lexer": "ipython3",
   "version": "3.6.6"
  }
 },
 "nbformat": 4,
 "nbformat_minor": 2
}
